{
 "cells": [
  {
   "cell_type": "code",
   "execution_count": 2,
   "id": "f56444fb-363c-4fca-b3ac-0cd43996effe",
   "metadata": {},
   "outputs": [
    {
     "name": "stdout",
     "output_type": "stream",
     "text": [
      "Requirement already satisfied: transformers in /opt/anaconda3/lib/python3.12/site-packages (4.46.2)\n",
      "Requirement already satisfied: tensorflow in /opt/anaconda3/lib/python3.12/site-packages (2.18.0)\n",
      "Requirement already satisfied: filelock in /opt/anaconda3/lib/python3.12/site-packages (from transformers) (3.13.1)\n",
      "Requirement already satisfied: huggingface-hub<1.0,>=0.23.2 in /opt/anaconda3/lib/python3.12/site-packages (from transformers) (0.26.2)\n",
      "Requirement already satisfied: numpy>=1.17 in /opt/anaconda3/lib/python3.12/site-packages (from transformers) (1.26.4)\n",
      "Requirement already satisfied: packaging>=20.0 in /opt/anaconda3/lib/python3.12/site-packages (from transformers) (24.1)\n",
      "Requirement already satisfied: pyyaml>=5.1 in /opt/anaconda3/lib/python3.12/site-packages (from transformers) (6.0.1)\n",
      "Requirement already satisfied: regex!=2019.12.17 in /opt/anaconda3/lib/python3.12/site-packages (from transformers) (2024.9.11)\n",
      "Requirement already satisfied: requests in /opt/anaconda3/lib/python3.12/site-packages (from transformers) (2.32.3)\n",
      "Requirement already satisfied: safetensors>=0.4.1 in /opt/anaconda3/lib/python3.12/site-packages (from transformers) (0.4.5)\n",
      "Requirement already satisfied: tokenizers<0.21,>=0.20 in /opt/anaconda3/lib/python3.12/site-packages (from transformers) (0.20.3)\n",
      "Requirement already satisfied: tqdm>=4.27 in /opt/anaconda3/lib/python3.12/site-packages (from transformers) (4.66.5)\n",
      "Requirement already satisfied: absl-py>=1.0.0 in /opt/anaconda3/lib/python3.12/site-packages (from tensorflow) (2.1.0)\n",
      "Requirement already satisfied: astunparse>=1.6.0 in /opt/anaconda3/lib/python3.12/site-packages (from tensorflow) (1.6.3)\n",
      "Requirement already satisfied: flatbuffers>=24.3.25 in /opt/anaconda3/lib/python3.12/site-packages (from tensorflow) (24.3.25)\n",
      "Requirement already satisfied: gast!=0.5.0,!=0.5.1,!=0.5.2,>=0.2.1 in /opt/anaconda3/lib/python3.12/site-packages (from tensorflow) (0.5.3)\n",
      "Requirement already satisfied: google-pasta>=0.1.1 in /opt/anaconda3/lib/python3.12/site-packages (from tensorflow) (0.2.0)\n",
      "Requirement already satisfied: libclang>=13.0.0 in /opt/anaconda3/lib/python3.12/site-packages (from tensorflow) (18.1.1)\n",
      "Requirement already satisfied: opt-einsum>=2.3.2 in /opt/anaconda3/lib/python3.12/site-packages (from tensorflow) (3.3.0)\n",
      "Requirement already satisfied: protobuf!=4.21.0,!=4.21.1,!=4.21.2,!=4.21.3,!=4.21.4,!=4.21.5,<6.0.0dev,>=3.20.3 in /opt/anaconda3/lib/python3.12/site-packages (from tensorflow) (4.25.3)\n",
      "Requirement already satisfied: setuptools in /opt/anaconda3/lib/python3.12/site-packages (from tensorflow) (75.1.0)\n",
      "Requirement already satisfied: six>=1.12.0 in /opt/anaconda3/lib/python3.12/site-packages (from tensorflow) (1.16.0)\n",
      "Requirement already satisfied: termcolor>=1.1.0 in /opt/anaconda3/lib/python3.12/site-packages (from tensorflow) (2.1.0)\n",
      "Requirement already satisfied: typing-extensions>=3.6.6 in /opt/anaconda3/lib/python3.12/site-packages (from tensorflow) (4.11.0)\n",
      "Requirement already satisfied: wrapt>=1.11.0 in /opt/anaconda3/lib/python3.12/site-packages (from tensorflow) (1.14.1)\n",
      "Requirement already satisfied: grpcio<2.0,>=1.24.3 in /opt/anaconda3/lib/python3.12/site-packages (from tensorflow) (1.62.2)\n",
      "Requirement already satisfied: tensorboard<2.19,>=2.18 in /opt/anaconda3/lib/python3.12/site-packages (from tensorflow) (2.18.0)\n",
      "Requirement already satisfied: keras>=3.5.0 in /opt/anaconda3/lib/python3.12/site-packages (from tensorflow) (3.6.0)\n",
      "Requirement already satisfied: h5py>=3.11.0 in /opt/anaconda3/lib/python3.12/site-packages (from tensorflow) (3.11.0)\n",
      "Requirement already satisfied: ml-dtypes<0.5.0,>=0.4.0 in /opt/anaconda3/lib/python3.12/site-packages (from tensorflow) (0.4.0)\n",
      "Requirement already satisfied: wheel<1.0,>=0.23.0 in /opt/anaconda3/lib/python3.12/site-packages (from astunparse>=1.6.0->tensorflow) (0.44.0)\n",
      "Requirement already satisfied: fsspec>=2023.5.0 in /opt/anaconda3/lib/python3.12/site-packages (from huggingface-hub<1.0,>=0.23.2->transformers) (2024.6.1)\n",
      "Requirement already satisfied: rich in /opt/anaconda3/lib/python3.12/site-packages (from keras>=3.5.0->tensorflow) (13.7.1)\n",
      "Requirement already satisfied: namex in /opt/anaconda3/lib/python3.12/site-packages (from keras>=3.5.0->tensorflow) (0.0.7)\n",
      "Requirement already satisfied: optree in /opt/anaconda3/lib/python3.12/site-packages (from keras>=3.5.0->tensorflow) (0.12.1)\n",
      "Requirement already satisfied: charset-normalizer<4,>=2 in /opt/anaconda3/lib/python3.12/site-packages (from requests->transformers) (3.3.2)\n",
      "Requirement already satisfied: idna<4,>=2.5 in /opt/anaconda3/lib/python3.12/site-packages (from requests->transformers) (3.7)\n",
      "Requirement already satisfied: urllib3<3,>=1.21.1 in /opt/anaconda3/lib/python3.12/site-packages (from requests->transformers) (2.2.3)\n",
      "Requirement already satisfied: certifi>=2017.4.17 in /opt/anaconda3/lib/python3.12/site-packages (from requests->transformers) (2024.8.30)\n",
      "Requirement already satisfied: markdown>=2.6.8 in /opt/anaconda3/lib/python3.12/site-packages (from tensorboard<2.19,>=2.18->tensorflow) (3.4.1)\n",
      "Requirement already satisfied: tensorboard-data-server<0.8.0,>=0.7.0 in /opt/anaconda3/lib/python3.12/site-packages (from tensorboard<2.19,>=2.18->tensorflow) (0.7.0)\n",
      "Requirement already satisfied: werkzeug>=1.0.1 in /opt/anaconda3/lib/python3.12/site-packages (from tensorboard<2.19,>=2.18->tensorflow) (3.0.3)\n",
      "Requirement already satisfied: MarkupSafe>=2.1.1 in /opt/anaconda3/lib/python3.12/site-packages (from werkzeug>=1.0.1->tensorboard<2.19,>=2.18->tensorflow) (2.1.3)\n",
      "Requirement already satisfied: markdown-it-py>=2.2.0 in /opt/anaconda3/lib/python3.12/site-packages (from rich->keras>=3.5.0->tensorflow) (2.2.0)\n",
      "Requirement already satisfied: pygments<3.0.0,>=2.13.0 in /opt/anaconda3/lib/python3.12/site-packages (from rich->keras>=3.5.0->tensorflow) (2.15.1)\n",
      "Requirement already satisfied: mdurl~=0.1 in /opt/anaconda3/lib/python3.12/site-packages (from markdown-it-py>=2.2.0->rich->keras>=3.5.0->tensorflow) (0.1.0)\n"
     ]
    }
   ],
   "source": [
    "!pip install -U transformers tensorflow"
   ]
  },
  {
   "cell_type": "code",
   "execution_count": 3,
   "id": "566b7745-f287-488f-bd5b-2e9d163de945",
   "metadata": {},
   "outputs": [
    {
     "name": "stdout",
     "output_type": "stream",
     "text": [
      "Requirement already satisfied: accelerate in /opt/anaconda3/lib/python3.12/site-packages (1.1.1)\n",
      "Requirement already satisfied: huggingface-hub>=0.21.0 in /opt/anaconda3/lib/python3.12/site-packages (from accelerate) (0.26.2)\n",
      "Requirement already satisfied: numpy<3.0.0,>=1.17 in /opt/anaconda3/lib/python3.12/site-packages (from accelerate) (1.26.4)\n",
      "Requirement already satisfied: packaging>=20.0 in /opt/anaconda3/lib/python3.12/site-packages (from accelerate) (24.1)\n",
      "Requirement already satisfied: psutil in /opt/anaconda3/lib/python3.12/site-packages (from accelerate) (5.9.0)\n",
      "Requirement already satisfied: pyyaml in /opt/anaconda3/lib/python3.12/site-packages (from accelerate) (6.0.1)\n",
      "Requirement already satisfied: safetensors>=0.4.3 in /opt/anaconda3/lib/python3.12/site-packages (from accelerate) (0.4.5)\n",
      "Requirement already satisfied: torch>=1.10.0 in /opt/anaconda3/lib/python3.12/site-packages (from accelerate) (2.3.0.post101)\n",
      "Requirement already satisfied: filelock in /opt/anaconda3/lib/python3.12/site-packages (from huggingface-hub>=0.21.0->accelerate) (3.13.1)\n",
      "Requirement already satisfied: fsspec>=2023.5.0 in /opt/anaconda3/lib/python3.12/site-packages (from huggingface-hub>=0.21.0->accelerate) (2024.6.1)\n",
      "Requirement already satisfied: requests in /opt/anaconda3/lib/python3.12/site-packages (from huggingface-hub>=0.21.0->accelerate) (2.32.3)\n",
      "Requirement already satisfied: tqdm>=4.42.1 in /opt/anaconda3/lib/python3.12/site-packages (from huggingface-hub>=0.21.0->accelerate) (4.66.5)\n",
      "Requirement already satisfied: typing-extensions>=3.7.4.3 in /opt/anaconda3/lib/python3.12/site-packages (from huggingface-hub>=0.21.0->accelerate) (4.11.0)\n",
      "Requirement already satisfied: sympy in /opt/anaconda3/lib/python3.12/site-packages (from torch>=1.10.0->accelerate) (1.13.2)\n",
      "Requirement already satisfied: networkx in /opt/anaconda3/lib/python3.12/site-packages (from torch>=1.10.0->accelerate) (3.3)\n",
      "Requirement already satisfied: jinja2 in /opt/anaconda3/lib/python3.12/site-packages (from torch>=1.10.0->accelerate) (3.1.4)\n",
      "Requirement already satisfied: MarkupSafe>=2.0 in /opt/anaconda3/lib/python3.12/site-packages (from jinja2->torch>=1.10.0->accelerate) (2.1.3)\n",
      "Requirement already satisfied: charset-normalizer<4,>=2 in /opt/anaconda3/lib/python3.12/site-packages (from requests->huggingface-hub>=0.21.0->accelerate) (3.3.2)\n",
      "Requirement already satisfied: idna<4,>=2.5 in /opt/anaconda3/lib/python3.12/site-packages (from requests->huggingface-hub>=0.21.0->accelerate) (3.7)\n",
      "Requirement already satisfied: urllib3<3,>=1.21.1 in /opt/anaconda3/lib/python3.12/site-packages (from requests->huggingface-hub>=0.21.0->accelerate) (2.2.3)\n",
      "Requirement already satisfied: certifi>=2017.4.17 in /opt/anaconda3/lib/python3.12/site-packages (from requests->huggingface-hub>=0.21.0->accelerate) (2024.8.30)\n",
      "Requirement already satisfied: mpmath<1.4,>=1.1.0 in /opt/anaconda3/lib/python3.12/site-packages (from sympy->torch>=1.10.0->accelerate) (1.3.0)\n"
     ]
    }
   ],
   "source": [
    "!pip install accelerate -U"
   ]
  },
  {
   "cell_type": "code",
   "execution_count": 5,
   "id": "5950c918-c2d2-4fab-9571-8732dc64fc20",
   "metadata": {},
   "outputs": [
    {
     "name": "stdout",
     "output_type": "stream",
     "text": [
      "Requirement already satisfied: tf-keras in /opt/anaconda3/lib/python3.12/site-packages (2.18.0)\n",
      "Requirement already satisfied: tensorflow<2.19,>=2.18 in /opt/anaconda3/lib/python3.12/site-packages (from tf-keras) (2.18.0)\n",
      "Requirement already satisfied: absl-py>=1.0.0 in /opt/anaconda3/lib/python3.12/site-packages (from tensorflow<2.19,>=2.18->tf-keras) (2.1.0)\n",
      "Requirement already satisfied: astunparse>=1.6.0 in /opt/anaconda3/lib/python3.12/site-packages (from tensorflow<2.19,>=2.18->tf-keras) (1.6.3)\n",
      "Requirement already satisfied: flatbuffers>=24.3.25 in /opt/anaconda3/lib/python3.12/site-packages (from tensorflow<2.19,>=2.18->tf-keras) (24.3.25)\n",
      "Requirement already satisfied: gast!=0.5.0,!=0.5.1,!=0.5.2,>=0.2.1 in /opt/anaconda3/lib/python3.12/site-packages (from tensorflow<2.19,>=2.18->tf-keras) (0.5.3)\n",
      "Requirement already satisfied: google-pasta>=0.1.1 in /opt/anaconda3/lib/python3.12/site-packages (from tensorflow<2.19,>=2.18->tf-keras) (0.2.0)\n",
      "Requirement already satisfied: libclang>=13.0.0 in /opt/anaconda3/lib/python3.12/site-packages (from tensorflow<2.19,>=2.18->tf-keras) (18.1.1)\n",
      "Requirement already satisfied: opt-einsum>=2.3.2 in /opt/anaconda3/lib/python3.12/site-packages (from tensorflow<2.19,>=2.18->tf-keras) (3.3.0)\n",
      "Requirement already satisfied: packaging in /opt/anaconda3/lib/python3.12/site-packages (from tensorflow<2.19,>=2.18->tf-keras) (24.1)\n",
      "Requirement already satisfied: protobuf!=4.21.0,!=4.21.1,!=4.21.2,!=4.21.3,!=4.21.4,!=4.21.5,<6.0.0dev,>=3.20.3 in /opt/anaconda3/lib/python3.12/site-packages (from tensorflow<2.19,>=2.18->tf-keras) (4.25.3)\n",
      "Requirement already satisfied: requests<3,>=2.21.0 in /opt/anaconda3/lib/python3.12/site-packages (from tensorflow<2.19,>=2.18->tf-keras) (2.32.3)\n",
      "Requirement already satisfied: setuptools in /opt/anaconda3/lib/python3.12/site-packages (from tensorflow<2.19,>=2.18->tf-keras) (75.1.0)\n",
      "Requirement already satisfied: six>=1.12.0 in /opt/anaconda3/lib/python3.12/site-packages (from tensorflow<2.19,>=2.18->tf-keras) (1.16.0)\n",
      "Requirement already satisfied: termcolor>=1.1.0 in /opt/anaconda3/lib/python3.12/site-packages (from tensorflow<2.19,>=2.18->tf-keras) (2.1.0)\n",
      "Requirement already satisfied: typing-extensions>=3.6.6 in /opt/anaconda3/lib/python3.12/site-packages (from tensorflow<2.19,>=2.18->tf-keras) (4.11.0)\n",
      "Requirement already satisfied: wrapt>=1.11.0 in /opt/anaconda3/lib/python3.12/site-packages (from tensorflow<2.19,>=2.18->tf-keras) (1.14.1)\n",
      "Requirement already satisfied: grpcio<2.0,>=1.24.3 in /opt/anaconda3/lib/python3.12/site-packages (from tensorflow<2.19,>=2.18->tf-keras) (1.62.2)\n",
      "Requirement already satisfied: tensorboard<2.19,>=2.18 in /opt/anaconda3/lib/python3.12/site-packages (from tensorflow<2.19,>=2.18->tf-keras) (2.18.0)\n",
      "Requirement already satisfied: keras>=3.5.0 in /opt/anaconda3/lib/python3.12/site-packages (from tensorflow<2.19,>=2.18->tf-keras) (3.6.0)\n",
      "Requirement already satisfied: numpy<2.1.0,>=1.26.0 in /opt/anaconda3/lib/python3.12/site-packages (from tensorflow<2.19,>=2.18->tf-keras) (1.26.4)\n",
      "Requirement already satisfied: h5py>=3.11.0 in /opt/anaconda3/lib/python3.12/site-packages (from tensorflow<2.19,>=2.18->tf-keras) (3.11.0)\n",
      "Requirement already satisfied: ml-dtypes<0.5.0,>=0.4.0 in /opt/anaconda3/lib/python3.12/site-packages (from tensorflow<2.19,>=2.18->tf-keras) (0.4.0)\n",
      "Requirement already satisfied: wheel<1.0,>=0.23.0 in /opt/anaconda3/lib/python3.12/site-packages (from astunparse>=1.6.0->tensorflow<2.19,>=2.18->tf-keras) (0.44.0)\n",
      "Requirement already satisfied: rich in /opt/anaconda3/lib/python3.12/site-packages (from keras>=3.5.0->tensorflow<2.19,>=2.18->tf-keras) (13.7.1)\n",
      "Requirement already satisfied: namex in /opt/anaconda3/lib/python3.12/site-packages (from keras>=3.5.0->tensorflow<2.19,>=2.18->tf-keras) (0.0.7)\n",
      "Requirement already satisfied: optree in /opt/anaconda3/lib/python3.12/site-packages (from keras>=3.5.0->tensorflow<2.19,>=2.18->tf-keras) (0.12.1)\n",
      "Requirement already satisfied: charset-normalizer<4,>=2 in /opt/anaconda3/lib/python3.12/site-packages (from requests<3,>=2.21.0->tensorflow<2.19,>=2.18->tf-keras) (3.3.2)\n",
      "Requirement already satisfied: idna<4,>=2.5 in /opt/anaconda3/lib/python3.12/site-packages (from requests<3,>=2.21.0->tensorflow<2.19,>=2.18->tf-keras) (3.7)\n",
      "Requirement already satisfied: urllib3<3,>=1.21.1 in /opt/anaconda3/lib/python3.12/site-packages (from requests<3,>=2.21.0->tensorflow<2.19,>=2.18->tf-keras) (2.2.3)\n",
      "Requirement already satisfied: certifi>=2017.4.17 in /opt/anaconda3/lib/python3.12/site-packages (from requests<3,>=2.21.0->tensorflow<2.19,>=2.18->tf-keras) (2024.8.30)\n",
      "Requirement already satisfied: markdown>=2.6.8 in /opt/anaconda3/lib/python3.12/site-packages (from tensorboard<2.19,>=2.18->tensorflow<2.19,>=2.18->tf-keras) (3.4.1)\n",
      "Requirement already satisfied: tensorboard-data-server<0.8.0,>=0.7.0 in /opt/anaconda3/lib/python3.12/site-packages (from tensorboard<2.19,>=2.18->tensorflow<2.19,>=2.18->tf-keras) (0.7.0)\n",
      "Requirement already satisfied: werkzeug>=1.0.1 in /opt/anaconda3/lib/python3.12/site-packages (from tensorboard<2.19,>=2.18->tensorflow<2.19,>=2.18->tf-keras) (3.0.3)\n",
      "Requirement already satisfied: MarkupSafe>=2.1.1 in /opt/anaconda3/lib/python3.12/site-packages (from werkzeug>=1.0.1->tensorboard<2.19,>=2.18->tensorflow<2.19,>=2.18->tf-keras) (2.1.3)\n",
      "Requirement already satisfied: markdown-it-py>=2.2.0 in /opt/anaconda3/lib/python3.12/site-packages (from rich->keras>=3.5.0->tensorflow<2.19,>=2.18->tf-keras) (2.2.0)\n",
      "Requirement already satisfied: pygments<3.0.0,>=2.13.0 in /opt/anaconda3/lib/python3.12/site-packages (from rich->keras>=3.5.0->tensorflow<2.19,>=2.18->tf-keras) (2.15.1)\n",
      "Requirement already satisfied: mdurl~=0.1 in /opt/anaconda3/lib/python3.12/site-packages (from markdown-it-py>=2.2.0->rich->keras>=3.5.0->tensorflow<2.19,>=2.18->tf-keras) (0.1.0)\n"
     ]
    }
   ],
   "source": [
    "!pip install tf-keras"
   ]
  },
  {
   "cell_type": "code",
   "execution_count": null,
   "id": "40a3fe35-9087-4521-a516-69bdea0cc73f",
   "metadata": {},
   "outputs": [],
   "source": []
  },
  {
   "cell_type": "code",
   "execution_count": 2,
   "id": "a2844153-6566-44af-8a30-0feb071285d1",
   "metadata": {},
   "outputs": [],
   "source": [
    "import pandas as pd\n",
    "import numpy as np\n",
    "import keras\n",
    "from sklearn.model_selection import train_test_split\n",
    "from sklearn.feature_extraction.text import TfidfVectorizer\n",
    "from sklearn.linear_model import LogisticRegression\n",
    "from sklearn.metrics import accuracy_score, classification_report\n",
    "from transformers import DistilBertTokenizer, TFDistilBertForSequenceClassification\n",
    "import tensorflow as tf"
   ]
  },
  {
   "cell_type": "code",
   "execution_count": 4,
   "id": "ec595dbe-91e7-40fe-bd9c-a5756cd53eae",
   "metadata": {},
   "outputs": [],
   "source": [
    "df = pd.read_csv('/Users/mohsentaheri/Documents/JupyterNoteBook/combinednlpcat.csv')"
   ]
  },
  {
   "cell_type": "code",
   "execution_count": 5,
   "id": "9b2b562e-1dec-4f2b-9ba3-94fabefadbb9",
   "metadata": {},
   "outputs": [
    {
     "data": {
      "text/html": [
       "<div>\n",
       "<style scoped>\n",
       "    .dataframe tbody tr th:only-of-type {\n",
       "        vertical-align: middle;\n",
       "    }\n",
       "\n",
       "    .dataframe tbody tr th {\n",
       "        vertical-align: top;\n",
       "    }\n",
       "\n",
       "    .dataframe thead th {\n",
       "        text-align: right;\n",
       "    }\n",
       "</style>\n",
       "<table border=\"1\" class=\"dataframe\">\n",
       "  <thead>\n",
       "    <tr style=\"text-align: right;\">\n",
       "      <th></th>\n",
       "      <th>news_ID</th>\n",
       "      <th>clean_text</th>\n",
       "      <th>category</th>\n",
       "    </tr>\n",
       "  </thead>\n",
       "  <tbody>\n",
       "    <tr>\n",
       "      <th>0</th>\n",
       "      <td>NID_2023-01-19-02_3182</td>\n",
       "      <td>Forscher sehen enorm Aufholbedarf bei CO2 Entn...</td>\n",
       "      <td>Wissenschaft</td>\n",
       "    </tr>\n",
       "    <tr>\n",
       "      <th>1</th>\n",
       "      <td>NID_2023-01-19-04_5957</td>\n",
       "      <td>Museum Winsen Wie ein klein Museum groß Idee u...</td>\n",
       "      <td>Lkr. Harburg</td>\n",
       "    </tr>\n",
       "    <tr>\n",
       "      <th>2</th>\n",
       "      <td>NID_2023-01-19-04_6983</td>\n",
       "      <td>quartier in Harburg der neu Kümmerer beziehen ...</td>\n",
       "      <td>Harburg</td>\n",
       "    </tr>\n",
       "    <tr>\n",
       "      <th>3</th>\n",
       "      <td>NID_2023-01-19-04_3777</td>\n",
       "      <td>Grundsteuer Frist für Steuererklärung laufen a...</td>\n",
       "      <td>Norderstedt</td>\n",
       "    </tr>\n",
       "    <tr>\n",
       "      <th>4</th>\n",
       "      <td>NID_2023-01-19-06_4993</td>\n",
       "      <td>Kreis Pinneberg Elmshorn legen sein Vision der...</td>\n",
       "      <td>Pinneberg</td>\n",
       "    </tr>\n",
       "    <tr>\n",
       "      <th>...</th>\n",
       "      <td>...</td>\n",
       "      <td>...</td>\n",
       "      <td>...</td>\n",
       "    </tr>\n",
       "    <tr>\n",
       "      <th>985820</th>\n",
       "      <td>NID_2023-02-04-00_13776</td>\n",
       "      <td>Tagebuch in dies groß Zeit Björn Höcke in ein ...</td>\n",
       "      <td>Feuilleton</td>\n",
       "    </tr>\n",
       "    <tr>\n",
       "      <th>985821</th>\n",
       "      <td>NID_2023-02-04-00_3506</td>\n",
       "      <td>Digitales irgendwas passieren Berliner Festiva...</td>\n",
       "      <td>Feuilleton</td>\n",
       "    </tr>\n",
       "    <tr>\n",
       "      <th>985822</th>\n",
       "      <td>NID_2023-02-04-00_5566</td>\n",
       "      <td>Gedicht zeigen gut Nachricht der Glühbirne sei...</td>\n",
       "      <td>Feuilleton</td>\n",
       "    </tr>\n",
       "    <tr>\n",
       "      <th>985823</th>\n",
       "      <td>NID_2023-02-04-00_12457</td>\n",
       "      <td>schon laufen Nachschlag Zündnadeljets seit fas...</td>\n",
       "      <td>Feuilleton</td>\n",
       "    </tr>\n",
       "    <tr>\n",
       "      <th>985824</th>\n",
       "      <td>NID_2023-02-04-00_13900</td>\n",
       "      <td>Termin Veranstaltunge der jW Termintipps</td>\n",
       "      <td>Feuilleton</td>\n",
       "    </tr>\n",
       "  </tbody>\n",
       "</table>\n",
       "<p>985738 rows × 3 columns</p>\n",
       "</div>"
      ],
      "text/plain": [
       "                        news_ID  \\\n",
       "0        NID_2023-01-19-02_3182   \n",
       "1        NID_2023-01-19-04_5957   \n",
       "2        NID_2023-01-19-04_6983   \n",
       "3        NID_2023-01-19-04_3777   \n",
       "4        NID_2023-01-19-06_4993   \n",
       "...                         ...   \n",
       "985820  NID_2023-02-04-00_13776   \n",
       "985821   NID_2023-02-04-00_3506   \n",
       "985822   NID_2023-02-04-00_5566   \n",
       "985823  NID_2023-02-04-00_12457   \n",
       "985824  NID_2023-02-04-00_13900   \n",
       "\n",
       "                                               clean_text      category  \n",
       "0       Forscher sehen enorm Aufholbedarf bei CO2 Entn...  Wissenschaft  \n",
       "1       Museum Winsen Wie ein klein Museum groß Idee u...  Lkr. Harburg  \n",
       "2       quartier in Harburg der neu Kümmerer beziehen ...       Harburg  \n",
       "3       Grundsteuer Frist für Steuererklärung laufen a...   Norderstedt  \n",
       "4       Kreis Pinneberg Elmshorn legen sein Vision der...     Pinneberg  \n",
       "...                                                   ...           ...  \n",
       "985820  Tagebuch in dies groß Zeit Björn Höcke in ein ...    Feuilleton  \n",
       "985821  Digitales irgendwas passieren Berliner Festiva...    Feuilleton  \n",
       "985822  Gedicht zeigen gut Nachricht der Glühbirne sei...    Feuilleton  \n",
       "985823  schon laufen Nachschlag Zündnadeljets seit fas...    Feuilleton  \n",
       "985824           Termin Veranstaltunge der jW Termintipps    Feuilleton  \n",
       "\n",
       "[985738 rows x 3 columns]"
      ]
     },
     "execution_count": 5,
     "metadata": {},
     "output_type": "execute_result"
    }
   ],
   "source": [
    "# delete all the duplicated rows by keeping the first one and droping the rest\n",
    "duplicated_rows = df[df.duplicated(keep=False)]\n",
    "duplicated_rows\n",
    "\n",
    "df = df.drop_duplicates(keep='first')\n",
    "df"
   ]
  },
  {
   "cell_type": "code",
   "execution_count": 6,
   "id": "174d0ab9-2f9b-427c-910f-08d7ac5c5353",
   "metadata": {},
   "outputs": [
    {
     "name": "stdout",
     "output_type": "stream",
     "text": [
      "Total rows: 985738\n",
      "Missing rows in 'category': 856\n",
      "Percentage of missing data in 'category': 0.09%\n",
      "Original number of rows: 985738\n",
      "Number of rows after removing missing values: 984882\n"
     ]
    }
   ],
   "source": [
    "# Remove rows where 'category' is NaN\n",
    "\n",
    "total_rows = df.shape[0]\n",
    "missing_rows = df['category'].isna().sum()\n",
    "missing_percentage = (missing_rows / total_rows) * 100\n",
    "\n",
    "print(f\"Total rows: {total_rows}\")\n",
    "print(f\"Missing rows in 'category': {missing_rows}\")\n",
    "print(f\"Percentage of missing data in 'category': {missing_percentage:.2f}%\")\n",
    "\n",
    "# Assuming df is your DataFrame\n",
    "print(\"Original number of rows:\", df.shape[0])\n",
    "\n",
    "# Remove rows where 'category' is NaN\n",
    "df = df.dropna(subset=['category'])\n",
    "print(\"Number of rows after removing missing values:\", df.shape[0])"
   ]
  },
  {
   "cell_type": "code",
   "execution_count": 10,
   "id": "5f0b3f2b-c2ce-4f61-b369-bff434541ab4",
   "metadata": {},
   "outputs": [
    {
     "name": "stdout",
     "output_type": "stream",
     "text": [
      "Shape of original dataset: (984882, 3)\n",
      "total number of categories is : 69808\n"
     ]
    }
   ],
   "source": [
    "#Read the data\n",
    "df.head()\n",
    "print('Shape of original dataset:',df.shape)\n",
    "unique_values = df['category'].nunique()\n",
    "print('total number of categories is :',unique_values)"
   ]
  },
  {
   "cell_type": "code",
   "execution_count": 12,
   "id": "f656a6bb-8077-4f20-91fa-83c3eb10ad1d",
   "metadata": {},
   "outputs": [
    {
     "data": {
      "text/plain": [
       "news_ID       0\n",
       "clean_text    0\n",
       "category      0\n",
       "dtype: int64"
      ]
     },
     "execution_count": 12,
     "metadata": {},
     "output_type": "execute_result"
    }
   ],
   "source": [
    "df.isnull().sum()"
   ]
  },
  {
   "cell_type": "code",
   "execution_count": 14,
   "id": "dea9e0e1-11b9-4b91-979c-8812297692b4",
   "metadata": {},
   "outputs": [
    {
     "data": {
      "text/plain": [
       "category\n",
       "News                                                26432\n",
       "Politik                                             26420\n",
       "Sport                                               19741\n",
       "Wirtschaft                                          19313\n",
       "NRW                                                 18700\n",
       "                                                    ...  \n",
       "Elmshorn Fighting Pirates                               1\n",
       "Baumgart Klaus                                          1\n",
       "Prostata-Operation                                      1\n",
       "hogwarts legacy                                         1\n",
       "Sport,Fußball,3. Liga,SC Freiburg II,SC Freiburg        1\n",
       "Name: count, Length: 69808, dtype: int64"
      ]
     },
     "execution_count": 14,
     "metadata": {},
     "output_type": "execute_result"
    }
   ],
   "source": [
    "value_counts = df['category'].value_counts()\n",
    "value_counts"
   ]
  },
  {
   "cell_type": "code",
   "execution_count": 16,
   "id": "800d6ceb-c6ab-4161-af38-007e0801b767",
   "metadata": {},
   "outputs": [
    {
     "name": "stdout",
     "output_type": "stream",
     "text": [
      "<class 'pandas.core.frame.DataFrame'>\n",
      "Index: 984882 entries, 0 to 985824\n",
      "Data columns (total 3 columns):\n",
      " #   Column      Non-Null Count   Dtype \n",
      "---  ------      --------------   ----- \n",
      " 0   news_ID     984882 non-null  object\n",
      " 1   clean_text  984882 non-null  object\n",
      " 2   category    984882 non-null  object\n",
      "dtypes: object(3)\n",
      "memory usage: 30.1+ MB\n"
     ]
    }
   ],
   "source": [
    "df.info()"
   ]
  },
  {
   "cell_type": "code",
   "execution_count": 18,
   "id": "17a7c756-931f-4318-9413-76fe0f2a11fe",
   "metadata": {},
   "outputs": [
    {
     "name": "stdout",
     "output_type": "stream",
     "text": [
      "category\n",
      "News           26432\n",
      "Politik        26420\n",
      "Sport          19741\n",
      "Wirtschaft     19313\n",
      "NRW            18700\n",
      "Lokales        17849\n",
      "free           14954\n",
      "Städte         13538\n",
      "Deutschland     8652\n",
      "Panorama        8440\n",
      "Name: count, dtype: int64\n"
     ]
    }
   ],
   "source": [
    "#extracting the top frequent categories\n",
    "top_categories = df['category'].value_counts().head(10)\n",
    "print(top_categories)"
   ]
  },
  {
   "cell_type": "code",
   "execution_count": 20,
   "id": "1f590519-3f50-4b41-9e0d-a58006cffc4e",
   "metadata": {},
   "outputs": [
    {
     "data": {
      "image/png": "[encoded data removed]",
      "text/plain": [
       "<Figure size 1200x800 with 1 Axes>"
      ]
     },
     "metadata": {},
     "output_type": "display_data"
    }
   ],
   "source": [
    "# Create a bar plot\n",
    "import matplotlib.pyplot as plt\n",
    "plt.figure(figsize=(12, 8))  # Set figure size\n",
    "top_categories.plot(kind='bar', color='purple')\n",
    "plt.title('Top Most Frequent Categories')\n",
    "plt.xlabel('Categories')\n",
    "plt.ylabel('Frequency')\n",
    "plt.xticks(rotation=45, ha='right')  # Rotate category labels for better readability\n",
    "plt.show()"
   ]
  },
  {
   "cell_type": "code",
   "execution_count": 22,
   "id": "910e4f77-093e-4edb-af6c-3e95dca4ba0b",
   "metadata": {},
   "outputs": [],
   "source": [
    "import pandas as pd\n",
    "from sklearn.utils import resample\n",
    "\n",
    "\n",
    "def preprocess_and_balance(df,\n",
    "                           text_column='clean_text',\n",
    "                           label_column='category',\n",
    "                           target_count=5000,\n",
    "                           top_n_categories=30):\n",
    "    \"\"\"\n",
    "    Preprocess the dataset by converting text to lowercase and balancing the top N categories.\n",
    "\n",
    "    Parameters:\n",
    "    - df (pd.DataFrame): DataFrame containing the dataset with text and label columns.\n",
    "    - text_column (str): The name of the column containing the text data.\n",
    "    - label_column (str): The name of the column containing the label/category.\n",
    "    - target_count (int): The target number of samples for each category to balance.\n",
    "    - top_n_categories (int): Number of top categories to balance.\n",
    "\n",
    "    Returns:\n",
    "    - pd.DataFrame: A balanced DataFrame with text converted to lowercase.\n",
    "    \"\"\"\n",
    "\n",
    "    # Convert text to lowercase (using .loc to avoid SettingWithCopyWarning)\n",
    "    df2 = df.copy()  # Create a copy to avoid modifying the original DataFrame\n",
    "    df2.loc[:, text_column] = df2[text_column].str.lower()\n",
    "\n",
    "    # Get the top N categories by frequency\n",
    "    top_categories = df2[label_column].value_counts().nlargest(top_n_categories).index\n",
    "\n",
    "    # Filter dataset to include only the top N categories\n",
    "    df_top = df2[df2[label_column].isin(top_categories)]\n",
    "\n",
    "    # Initialize a list to store balanced data\n",
    "    balanced_data = []\n",
    "\n",
    "    # For each category in top N categories, apply resampling\n",
    "    for category in top_categories:\n",
    "        category_data = df_top[df_top[label_column] == category]\n",
    "\n",
    "        # If the category has fewer samples than target_count, oversample\n",
    "        if len(category_data) < target_count:\n",
    "            category_data_resampled = resample(\n",
    "                category_data,\n",
    "                replace=True,  # Oversample by allowing duplicates\n",
    "                n_samples=target_count,\n",
    "                random_state=42\n",
    "            )\n",
    "        # If the category has more samples than target_count, undersample\n",
    "        else:\n",
    "            category_data_resampled = resample(\n",
    "                category_data,\n",
    "                replace=False,  # Undersample without duplicates\n",
    "                n_samples=target_count,\n",
    "                random_state=42\n",
    "            )\n",
    "\n",
    "        # Append the resampled data\n",
    "        balanced_data.append(category_data_resampled)\n",
    "\n",
    "    # Concatenate all balanced data into a single DataFrame\n",
    "    balanced_df = pd.concat(balanced_data).reset_index(drop=True)\n",
    "\n",
    "    return balanced_df\n"
   ]
  },
  {
   "cell_type": "markdown",
   "id": "5f639df8-7d95-4d42-98bb-59187ab004ff",
   "metadata": {},
   "source": [
    "# Choose the number of inputs raws"
   ]
  },
  {
   "cell_type": "code",
   "execution_count": 24,
   "id": "0443202c-7a2e-422d-a46a-bedb9e11a252",
   "metadata": {},
   "outputs": [],
   "source": [
    "# Choose the number of inputs\n",
    "target_count=100"
   ]
  },
  {
   "cell_type": "code",
   "execution_count": null,
   "id": "09c67958-a116-4527-b176-46b95e47dfbb",
   "metadata": {},
   "outputs": [],
   "source": []
  },
  {
   "cell_type": "code",
   "execution_count": 27,
   "id": "f420dfca-1ba9-4c50-bc65-42e41b805426",
   "metadata": {},
   "outputs": [
    {
     "name": "stdout",
     "output_type": "stream",
     "text": [
      "category\n",
      "News           100\n",
      "Politik        100\n",
      "Sport          100\n",
      "Wirtschaft     100\n",
      "NRW            100\n",
      "Lokales        100\n",
      "free           100\n",
      "Städte         100\n",
      "Deutschland    100\n",
      "Panorama       100\n",
      "Name: count, dtype: int64\n"
     ]
    },
    {
     "data": {
      "text/html": [
       "<div>\n",
       "<style scoped>\n",
       "    .dataframe tbody tr th:only-of-type {\n",
       "        vertical-align: middle;\n",
       "    }\n",
       "\n",
       "    .dataframe tbody tr th {\n",
       "        vertical-align: top;\n",
       "    }\n",
       "\n",
       "    .dataframe thead th {\n",
       "        text-align: right;\n",
       "    }\n",
       "</style>\n",
       "<table border=\"1\" class=\"dataframe\">\n",
       "  <thead>\n",
       "    <tr style=\"text-align: right;\">\n",
       "      <th></th>\n",
       "      <th>news_ID</th>\n",
       "      <th>clean_text</th>\n",
       "      <th>category</th>\n",
       "    </tr>\n",
       "  </thead>\n",
       "  <tbody>\n",
       "    <tr>\n",
       "      <th>0</th>\n",
       "      <td>NID_2023-01-13-20_9793</td>\n",
       "      <td>mit wir der sein so ein yin yang geschichte pe...</td>\n",
       "      <td>News</td>\n",
       "    </tr>\n",
       "    <tr>\n",
       "      <th>1</th>\n",
       "      <td>NID_2023-02-04-09_3988</td>\n",
       "      <td>hoch lawinengefahren winterwetter sorgen weite...</td>\n",
       "      <td>News</td>\n",
       "    </tr>\n",
       "    <tr>\n",
       "      <th>2</th>\n",
       "      <td>NID_2023-01-10-08_1639</td>\n",
       "      <td>berliner autofahrer stehen 71h jahr in der sta...</td>\n",
       "      <td>News</td>\n",
       "    </tr>\n",
       "    <tr>\n",
       "      <th>3</th>\n",
       "      <td>NID_2023-01-17-20_16160</td>\n",
       "      <td>ybbstal schwierige zeit für kultur rückgang nu...</td>\n",
       "      <td>News</td>\n",
       "    </tr>\n",
       "    <tr>\n",
       "      <th>4</th>\n",
       "      <td>NID_2023-01-19-16_14204</td>\n",
       "      <td>tennis djokovic in 3 melbourne runde aus für z...</td>\n",
       "      <td>News</td>\n",
       "    </tr>\n",
       "  </tbody>\n",
       "</table>\n",
       "</div>"
      ],
      "text/plain": [
       "                   news_ID                                         clean_text  \\\n",
       "0   NID_2023-01-13-20_9793  mit wir der sein so ein yin yang geschichte pe...   \n",
       "1   NID_2023-02-04-09_3988  hoch lawinengefahren winterwetter sorgen weite...   \n",
       "2   NID_2023-01-10-08_1639  berliner autofahrer stehen 71h jahr in der sta...   \n",
       "3  NID_2023-01-17-20_16160  ybbstal schwierige zeit für kultur rückgang nu...   \n",
       "4  NID_2023-01-19-16_14204  tennis djokovic in 3 melbourne runde aus für z...   \n",
       "\n",
       "  category  \n",
       "0     News  \n",
       "1     News  \n",
       "2     News  \n",
       "3     News  \n",
       "4     News  "
      ]
     },
     "execution_count": 27,
     "metadata": {},
     "output_type": "execute_result"
    }
   ],
   "source": [
    "# Assuming your original DataFrame is `df`\n",
    "balanced_df = preprocess_and_balance(df,\n",
    "                                     text_column='clean_text',\n",
    "                                     label_column='category',\n",
    "                                     target_count=target_count,\n",
    "                                     top_n_categories=10)\n",
    "\n",
    "# Check class distribution in the balanced dataset\n",
    "print(balanced_df['category'].value_counts())\n",
    "balanced_df.head()"
   ]
  },
  {
   "cell_type": "code",
   "execution_count": 28,
   "id": "0a570e1d-fe9e-40c7-b704-440904ccfd11",
   "metadata": {},
   "outputs": [
    {
     "data": {
      "image/png": "[encoded data removed]",
      "text/plain": [
       "<Figure size 1000x600 with 1 Axes>"
      ]
     },
     "metadata": {},
     "output_type": "display_data"
    }
   ],
   "source": [
    "def plot_category_distribution(df, label_column='category'):\n",
    "    \"\"\"\n",
    "    Plots the distribution of categories in a bar chart.\n",
    "\n",
    "    Parameters:\n",
    "    - df (pd.DataFrame): DataFrame containing the balanced dataset.\n",
    "    - label_column (str): The name of the column containing the label/category.\n",
    "    \"\"\"\n",
    "    # Get the category counts\n",
    "    category_counts = df[label_column].value_counts()\n",
    "\n",
    "    # Plot the bar chart\n",
    "    plt.figure(figsize=(10, 6))\n",
    "    category_counts.plot(kind='bar')\n",
    "    plt.title('Category Distribution in Balanced Dataset')\n",
    "    plt.xlabel('Category')\n",
    "    plt.ylabel('Count')\n",
    "    plt.xticks(rotation=45, ha='right')\n",
    "    plt.tight_layout()\n",
    "    plt.show()\n",
    "\n",
    "# Assuming your balanced DataFrame is `balanced_df`\n",
    "plot_category_distribution(balanced_df, label_column='category')"
   ]
  },
  {
   "cell_type": "markdown",
   "id": "65e13d26-b100-423b-be18-e9e7c89707cc",
   "metadata": {},
   "source": [
    "# Conventional Classification"
   ]
  },
  {
   "cell_type": "code",
   "execution_count": 32,
   "id": "83305e28-edba-40db-aee4-9350126590d3",
   "metadata": {},
   "outputs": [
    {
     "name": "stdout",
     "output_type": "stream",
     "text": [
      "(800, 5000)\n",
      "(200, 5000)\n",
      "Logistic Regression Accuracy: 0.37\n",
      "Classification Report for Logistic Regression:\n",
      "               precision    recall  f1-score   support\n",
      "\n",
      " Deutschland       0.44      0.35      0.39        20\n",
      "     Lokales       0.35      0.65      0.46        20\n",
      "         NRW       0.29      0.25      0.27        20\n",
      "        News       0.33      0.20      0.25        20\n",
      "    Panorama       0.35      0.35      0.35        20\n",
      "     Politik       0.28      0.35      0.31        20\n",
      "       Sport       0.62      0.65      0.63        20\n",
      "      Städte       0.38      0.30      0.33        20\n",
      "  Wirtschaft       0.35      0.35      0.35        20\n",
      "        free       0.31      0.25      0.28        20\n",
      "\n",
      "    accuracy                           0.37       200\n",
      "   macro avg       0.37      0.37      0.36       200\n",
      "weighted avg       0.37      0.37      0.36       200\n",
      "\n"
     ]
    },
    {
     "name": "stderr",
     "output_type": "stream",
     "text": [
      "/opt/anaconda3/lib/python3.12/site-packages/sklearn/linear_model/_logistic.py:1247: FutureWarning: 'multi_class' was deprecated in version 1.5 and will be removed in 1.7. From then on, it will always use 'multinomial'. Leave it to its default value to avoid this warning.\n",
      "  warnings.warn(\n"
     ]
    }
   ],
   "source": [
    "# Import necessary libraries\n",
    "from sklearn.model_selection import train_test_split\n",
    "from sklearn.preprocessing import StandardScaler\n",
    "from sklearn.linear_model import LogisticRegression\n",
    "from sklearn.neighbors import KNeighborsClassifier\n",
    "from sklearn.svm import SVC\n",
    "from sklearn.metrics import accuracy_score, classification_report\n",
    "from sklearn.datasets import make_classification\n",
    "from sklearn.feature_extraction.text import TfidfVectorizer\n",
    "\n",
    "# Assuming balanced_df is your balanced DataFrame\n",
    "X = balanced_df['clean_text']  # Features (text data)\n",
    "y = balanced_df['category']    # Target labels\n",
    "\n",
    "# Split the dataset into training and testing sets\n",
    "X_train, X_test, y_train, y_test = train_test_split(X, y, test_size=0.2, random_state=42, stratify=y)\n",
    "\n",
    "# Initialize the TF-IDF vectorizer\n",
    "tfidf = TfidfVectorizer(max_features=5000)\n",
    "# Fit on the training data only\n",
    "X_train_tfidf = tfidf.fit_transform(X_train)\n",
    "# Transform the test set using the fitted vectorizer\n",
    "X_test_tfidf = tfidf.transform(X_test)\n",
    "\n",
    "print(X_train_tfidf.shape)\n",
    "print(X_test_tfidf.shape)\n",
    "\n",
    "# Initialize classifiers\n",
    "classifiers = {\n",
    "   \"Logistic Regression\": LogisticRegression(multi_class='multinomial', max_iter=1000, random_state=42),\n",
    "   # \"K-Nearest Neighbors\": KNeighborsClassifier(n_neighbors=5),\n",
    "   # \"Support Vector Machine\": SVC(kernel='linear', probability=True, random_state=42)\n",
    "}\n",
    "\n",
    "# Train and evaluate each classifier\n",
    "for name, clf in classifiers.items():\n",
    "    clf.fit(X_train_tfidf, y_train)\n",
    "    y_pred = clf.predict(X_test_tfidf)\n",
    "    print(f\"{name} Accuracy: {accuracy_score(y_test, y_pred):.2f}\")\n",
    "    print(f\"Classification Report for {name}:\\n\", classification_report(y_test, y_pred))\n",
    "\n"
   ]
  },
  {
   "cell_type": "markdown",
   "id": "3dfa8991-078e-432f-8d14-33379287283b",
   "metadata": {},
   "source": [
    "# NN Classification"
   ]
  },
  {
   "cell_type": "code",
   "execution_count": 35,
   "id": "0d8386a1-13f9-422e-80ca-292c1aab2da3",
   "metadata": {},
   "outputs": [],
   "source": [
    "import pandas as pd\n",
    "from sklearn.model_selection import train_test_split\n",
    "from sklearn.metrics import classification_report\n",
    "import torch\n",
    "import tensorflow as tf\n",
    "from transformers import BertTokenizer, BertForSequenceClassification, Trainer, TrainingArguments, AdamW, BertConfig\n",
    "from transformers import DataCollatorWithPadding\n",
    "from torch.utils.data import Dataset\n",
    "from torch.utils.data import TensorDataset, DataLoader, RandomSampler, SequentialSampler"
   ]
  },
  {
   "cell_type": "code",
   "execution_count": 37,
   "id": "e01cdc53-24f6-4b53-bfe0-d0c84b0393be",
   "metadata": {},
   "outputs": [
    {
     "name": "stdout",
     "output_type": "stream",
     "text": [
      "10\n"
     ]
    }
   ],
   "source": [
    "# Convert categories to numeric labels\n",
    "balanced_df['category'] = pd.factorize(balanced_df['category'])[0]\n",
    "num_labels = balanced_df['category'].nunique()\n",
    "print(num_labels)"
   ]
  },
  {
   "cell_type": "code",
   "execution_count": 39,
   "id": "2c86f16f-69b5-4073-9806-46f005359b99",
   "metadata": {},
   "outputs": [],
   "source": [
    "train_df, val_df = train_test_split(balanced_df, \n",
    "                                    test_size=0.2, \n",
    "                                    random_state=42, stratify=balanced_df['category'])"
   ]
  },
  {
   "cell_type": "code",
   "execution_count": 41,
   "id": "0f5ddd0f-ddc7-4294-931f-5278a1776b3a",
   "metadata": {},
   "outputs": [],
   "source": [
    "# Load BERT tokenizer and model for sequence classification\n",
    "model_name = 'bert-base-german-cased'\n",
    "tokenizer = BertTokenizer.from_pretrained(model_name)"
   ]
  },
  {
   "cell_type": "code",
   "execution_count": 43,
   "id": "36e12e47-50f3-46d8-b1c8-560f31fc459e",
   "metadata": {},
   "outputs": [
    {
     "name": "stderr",
     "output_type": "stream",
     "text": [
      "Some weights of BertForSequenceClassification were not initialized from the model checkpoint at bert-base-german-cased and are newly initialized: ['classifier.bias', 'classifier.weight']\n",
      "You should probably TRAIN this model on a down-stream task to be able to use it for predictions and inference.\n"
     ]
    }
   ],
   "source": [
    "model = BertForSequenceClassification.from_pretrained(model_name, num_labels=num_labels)"
   ]
  },
  {
   "cell_type": "code",
   "execution_count": 45,
   "id": "a885bbdf-be4d-443e-ad49-0910427f648a",
   "metadata": {},
   "outputs": [],
   "source": [
    "# Define a custom dataset class\n",
    "class TextDataset(Dataset):\n",
    "    def __init__(self, texts, labels, tokenizer, max_length=512):\n",
    "        self.texts = texts\n",
    "        self.labels = labels\n",
    "        self.tokenizer = tokenizer\n",
    "        self.max_length = max_length\n",
    "    \n",
    "    def __len__(self):\n",
    "        return len(self.texts)\n",
    "    \n",
    "    def __getitem__(self, idx):\n",
    "        text = self.texts.iloc[idx]\n",
    "        label = self.labels.iloc[idx]\n",
    "        encoding = self.tokenizer(text, truncation=True, padding=\"max_length\", max_length=self.max_length, return_tensors=\"pt\")\n",
    "        item = {key: val.squeeze() for key, val in encoding.items()}\n",
    "        item['labels'] = torch.tensor(label, dtype=torch.long)\n",
    "        return item"
   ]
  },
  {
   "cell_type": "code",
   "execution_count": 47,
   "id": "2e973879-580c-4dc6-a1cc-d16fa120edd7",
   "metadata": {},
   "outputs": [],
   "source": [
    "# Create training and validation datasets\n",
    "train_dataset = TextDataset(train_df['clean_text'], train_df['category'], tokenizer)\n",
    "val_dataset = TextDataset(val_df['clean_text'], val_df['category'], tokenizer)\n"
   ]
  },
  {
   "cell_type": "code",
   "execution_count": 49,
   "id": "732bccc3-3377-4d74-ad45-1b4088861736",
   "metadata": {},
   "outputs": [],
   "source": [
    "# Set up the data collator for padding\n",
    "data_collator = DataCollatorWithPadding(tokenizer=tokenizer)"
   ]
  },
  {
   "cell_type": "code",
   "execution_count": 51,
   "id": "2e9f0a93-8f9c-4f11-85d8-d5465dcd5734",
   "metadata": {},
   "outputs": [
    {
     "name": "stderr",
     "output_type": "stream",
     "text": [
      "/opt/anaconda3/lib/python3.12/site-packages/transformers/training_args.py:1568: FutureWarning: `evaluation_strategy` is deprecated and will be removed in version 4.46 of 🤗 Transformers. Use `eval_strategy` instead\n",
      "  warnings.warn(\n"
     ]
    }
   ],
   "source": [
    "# Training arguments\n",
    "training_args = TrainingArguments(\n",
    "    output_dir=\"./results\",\n",
    "    evaluation_strategy=\"epoch\",\n",
    "    learning_rate=2e-5,\n",
    "    per_device_train_batch_size=4,\n",
    "    per_device_eval_batch_size=4,\n",
    "    num_train_epochs=1,\n",
    "    weight_decay=0.01,\n",
    ")"
   ]
  },
  {
   "cell_type": "code",
   "execution_count": null,
   "id": "614397a8-f545-415d-98c5-407a9096fff2",
   "metadata": {},
   "outputs": [],
   "source": []
  },
  {
   "cell_type": "code",
   "execution_count": 54,
   "id": "7284defb-b84c-4958-9fbf-0753ee8d2aaf",
   "metadata": {},
   "outputs": [
    {
     "name": "stderr",
     "output_type": "stream",
     "text": [
      "/var/folders/x6/bsynr2_s6c989vpwkw_95r840000gn/T/ipykernel_58432/8752782.py:2: FutureWarning: `tokenizer` is deprecated and will be removed in version 5.0.0 for `Trainer.__init__`. Use `processing_class` instead.\n",
      "  trainer = Trainer(\n"
     ]
    }
   ],
   "source": [
    "# Initialize Trainer\n",
    "trainer = Trainer(\n",
    "    model=model,\n",
    "    args=training_args,\n",
    "    train_dataset=train_dataset,\n",
    "    eval_dataset=val_dataset,\n",
    "    tokenizer=tokenizer,\n",
    "    data_collator=data_collator\n",
    ")"
   ]
  },
  {
   "cell_type": "code",
   "execution_count": null,
   "id": "6a27c0a6-e1ec-46a9-a337-9fc204514480",
   "metadata": {},
   "outputs": [],
   "source": []
  },
  {
   "cell_type": "code",
   "execution_count": 57,
   "id": "fc5a0079-8804-4664-87fc-93f8eac52bda",
   "metadata": {},
   "outputs": [
    {
     "data": {
      "text/html": [
       "\n",
       "    <div>\n",
       "      \n",
       "      <progress value='200' max='200' style='width:300px; height:20px; vertical-align: middle;'></progress>\n",
       "      [200/200 32:12, Epoch 1/1]\n",
       "    </div>\n",
       "    <table border=\"1\" class=\"dataframe\">\n",
       "  <thead>\n",
       " <tr style=\"text-align: left;\">\n",
       "      <th>Epoch</th>\n",
       "      <th>Training Loss</th>\n",
       "      <th>Validation Loss</th>\n",
       "    </tr>\n",
       "  </thead>\n",
       "  <tbody>\n",
       "    <tr>\n",
       "      <td>1</td>\n",
       "      <td>No log</td>\n",
       "      <td>1.857037</td>\n",
       "    </tr>\n",
       "  </tbody>\n",
       "</table><p>"
      ],
      "text/plain": [
       "<IPython.core.display.HTML object>"
      ]
     },
     "metadata": {},
     "output_type": "display_data"
    },
    {
     "data": {
      "text/plain": [
       "TrainOutput(global_step=200, training_loss=2.1417161560058595, metrics={'train_runtime': 1941.8413, 'train_samples_per_second': 0.412, 'train_steps_per_second': 0.103, 'total_flos': 210503963443200.0, 'train_loss': 2.1417161560058595, 'epoch': 1.0})"
      ]
     },
     "execution_count": 57,
     "metadata": {},
     "output_type": "execute_result"
    }
   ],
   "source": [
    "# Train the model\n",
    "trainer.train()"
   ]
  },
  {
   "cell_type": "code",
   "execution_count": null,
   "id": "89a78bac-46b0-47b8-a012-09e492843bee",
   "metadata": {},
   "outputs": [],
   "source": []
  },
  {
   "cell_type": "code",
   "execution_count": null,
   "id": "9c238f70-5541-4968-b08e-8c0a9c486467",
   "metadata": {},
   "outputs": [],
   "source": []
  },
  {
   "cell_type": "code",
   "execution_count": 59,
   "id": "0ad000b4-ca2c-47aa-bf41-77c4b3fba168",
   "metadata": {},
   "outputs": [
    {
     "data": {
      "text/html": [],
      "text/plain": [
       "<IPython.core.display.HTML object>"
      ]
     },
     "metadata": {},
     "output_type": "display_data"
    },
    {
     "name": "stdout",
     "output_type": "stream",
     "text": [
      "              precision    recall  f1-score   support\n",
      "\n",
      "           0       0.67      0.10      0.17        20\n",
      "           1       0.39      0.70      0.50        20\n",
      "           2       0.54      0.65      0.59        20\n",
      "           3       0.50      0.75      0.60        20\n",
      "           4       0.43      0.50      0.47        20\n",
      "           5       0.62      1.00      0.77        20\n",
      "           6       0.14      0.05      0.07        20\n",
      "           7       0.30      0.15      0.20        20\n",
      "           8       0.33      0.20      0.25        20\n",
      "           9       0.30      0.35      0.33        20\n",
      "\n",
      "    accuracy                           0.45       200\n",
      "   macro avg       0.42      0.44      0.39       200\n",
      "weighted avg       0.42      0.45      0.39       200\n",
      "\n"
     ]
    }
   ],
   "source": [
    "# Evaluate the model\n",
    "predictions = trainer.predict(val_dataset)\n",
    "preds = torch.argmax(torch.tensor(predictions.predictions), axis=1)\n",
    "\n",
    "# Display classification report\n",
    "print(classification_report(val_df['category'], preds))"
   ]
  },
  {
   "cell_type": "code",
   "execution_count": null,
   "id": "4bb75e23-77d3-4669-bdfc-21af188f09f9",
   "metadata": {},
   "outputs": [],
   "source": []
  }
 ],
 "metadata": {
  "kernelspec": {
   "display_name": "Python 3 (ipykernel)",
   "language": "python",
   "name": "python3"
  },
  "language_info": {
   "codemirror_mode": {
    "name": "ipython",
    "version": 3
   },
   "file_extension": ".py",
   "mimetype": "text/x-python",
   "name": "python",
   "nbconvert_exporter": "python",
   "pygments_lexer": "ipython3",
   "version": "3.12.7"
  }
 },
 "nbformat": 4,
 "nbformat_minor": 5
}
